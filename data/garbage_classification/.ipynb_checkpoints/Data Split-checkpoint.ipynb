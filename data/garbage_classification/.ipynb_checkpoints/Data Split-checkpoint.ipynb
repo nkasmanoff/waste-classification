{
 "cells": [
  {
   "cell_type": "code",
   "execution_count": 1,
   "metadata": {},
   "outputs": [],
   "source": [
    "\"\"\"\n",
    "split a list into train validation test and in separate folders\n",
    "\"\"\"\n",
    "\n",
    "import os\n",
    "import shutil\n",
    "import random\n"
   ]
  },
  {
   "cell_type": "code",
   "execution_count": 2,
   "metadata": {},
   "outputs": [],
   "source": [
    "\n",
    "def split_list(list_name, train_percent, validation_percent, test_percent):\n",
    "    \"\"\"\n",
    "    split a list into train validation test and in separate folders\n",
    "    \"\"\"\n",
    "    train_list = []\n",
    "    validation_list = []\n",
    "    test_list = []\n",
    "    for i in range(len(list_name)):\n",
    "        rand = random.random()\n",
    "        if rand < train_percent:\n",
    "            train_list.append(list_name[i])\n",
    "        elif rand < train_percent + validation_percent:\n",
    "            validation_list.append(list_name[i])\n",
    "        else:\n",
    "            test_list.append(list_name[i])\n",
    "    return train_list, validation_list, test_list\n",
    "\n",
    "def copy_files(list_name, src_dir, dst_dir):\n",
    "    \"\"\"\n",
    "    copy files from src_dir to dst_dir\n",
    "    \"\"\"\n",
    "    for i in range(len(list_name)):\n",
    "        shutil.copy(os.path.join(src_dir, list_name[i]), dst_dir)\n"
   ]
  },
  {
   "cell_type": "code",
   "execution_count": 3,
   "metadata": {},
   "outputs": [
    {
     "data": {
      "text/plain": [
       "['paper', 'metal', 'cardboard', 'trash', 'glass', 'plastic']"
      ]
     },
     "execution_count": 3,
     "metadata": {},
     "output_type": "execute_result"
    }
   ],
   "source": [
    "os.listdir(\"Garbage classification/\")"
   ]
  },
  {
   "cell_type": "code",
   "execution_count": 4,
   "metadata": {},
   "outputs": [],
   "source": [
    "paper = os.listdir(\"Garbage classification/paper\")\n",
    "metal = os.listdir(\"Garbage classification/metal\")\n",
    "cardboard = os.listdir(\"Garbage classification/cardboard\")\n",
    "trash = os.listdir(\"Garbage classification/trash\")\n",
    "glass = os.listdir(\"Garbage classification/glass\")\n",
    "plastic = os.listdir(\"Garbage classification/plastic\")"
   ]
  },
  {
   "cell_type": "code",
   "execution_count": 17,
   "metadata": {},
   "outputs": [],
   "source": [
    "\n",
    "\n",
    "train, val, test = split_list(plastic,train_percent=.7,validation_percent=.15,test_percent=.15)\n",
    "copy_files(train,'Garbage classification/plastic','train/plastic')\n",
    "copy_files(val,'Garbage classification/plastic','val/plastic')\n",
    "copy_files(test,'Garbage classification/plastic','test/plastic')"
   ]
  }
 ],
 "metadata": {
  "kernelspec": {
   "display_name": "Python 3",
   "language": "python",
   "name": "python3"
  },
  "language_info": {
   "codemirror_mode": {
    "name": "ipython",
    "version": 3
   },
   "file_extension": ".py",
   "mimetype": "text/x-python",
   "name": "python",
   "nbconvert_exporter": "python",
   "pygments_lexer": "ipython3",
   "version": "3.8.5"
  }
 },
 "nbformat": 4,
 "nbformat_minor": 4
}
